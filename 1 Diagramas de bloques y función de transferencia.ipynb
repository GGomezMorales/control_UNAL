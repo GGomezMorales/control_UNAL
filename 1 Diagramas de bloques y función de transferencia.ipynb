{
 "cells": [
  {
   "cell_type": "markdown",
   "metadata": {},
   "source": [
    "# <center> <strong>Diagramas de bloques y función de transferencia</strong> </center>\n",
    "\n",
    "---\n"
   ]
  },
  {
   "cell_type": "markdown",
   "metadata": {},
   "source": [
    "## <center> <strong>Librerías necesarias</strong> </center>"
   ]
  },
  {
   "cell_type": "markdown",
   "metadata": {},
   "source": [
    "<p style='text-align: justify'>\n",
    "    El módulo de <a href=\"https://python-control.readthedocs.io/en/\">control</a> es un conjunto de liberías y funciones enfocadas a las operaciones comúnes para el análisis y diseño de los sistemas de control de realimentación. Para más detalles consultar: <a href=\"https://python-control.readthedocs.io/en/\">https://python-control.readthedocs.io/en/</a>\n",
    "<p>"
   ]
  },
  {
   "cell_type": "markdown",
   "metadata": {},
   "source": [
    "<p style='text-align: justify'>\n",
    "    A continuación, instalaremos las librerías <code>control</code> y <code>prettytable</code>, e importaremos las funciones necesarias de los módulos <code>control</code>, <code>matplotlib</code>, y <code>prettytable</code>.\n",
    "<p>"
   ]
  },
  {
   "cell_type": "code",
   "execution_count": null,
   "metadata": {},
   "outputs": [],
   "source": [
    "! pip install control\n",
    "! pip install prettytable\n",
    "\n",
    "import control\n",
    "import matplotlib.pyplot as plt\n",
    "from control.matlab import *\n",
    "from prettytable import PrettyTable\n",
    "\n",
    "IPython.display.clear_output()"
   ]
  },
  {
   "cell_type": "markdown",
   "metadata": {},
   "source": [
    "## <center> <strong>Ejemplos</strong> </center>"
   ]
  },
  {
   "cell_type": "markdown",
   "metadata": {},
   "source": [
    "> ¿Cómo definir una función de transferencia en Python?"
   ]
  },
  {
   "cell_type": "code",
   "execution_count": null,
   "metadata": {},
   "outputs": [],
   "source": [
    "# Definimos una funcíon de transferencia\n",
    "sys = tf(2, [1, 2, 1])\n",
    "\n",
    "print(sys)"
   ]
  },
  {
   "cell_type": "markdown",
   "metadata": {},
   "source": [
    "<p style='text-align: justify'>\n",
    "    A continuación, desarrollaremos un ejemplo cuyo objetivo es simplificar el diagrama utilizando los comandos <code>series</code>, <code>parallel</code>, y <code>feedback</code>.\n",
    "<p>\n"
   ]
  },
  {
   "cell_type": "code",
   "execution_count": null,
   "metadata": {},
   "outputs": [],
   "source": [
    "# Definimos las funciones de transferencia de cada uno de los bloques\n",
    "gain = 4\n",
    "transfer_function_1 = tf(1, [1, 1])\n",
    "transfer_function_2 = tf([1, 0], [1, 0, 2])\n",
    "feedback_function = tf([1, 0, 2], [1, 0, 0, 14])\n",
    "\n",
    "# Realizamos las operaciones usando las funciones series y feedback\n",
    "series_combination = series(transfer_function_1, transfer_function_2)\n",
    "closed_loop_system = feedback(series_combination, feedback_function)\n",
    "final_transfer_function = series(gain, closed_loop_system)\n",
    "\n",
    "# Mostrar\n",
    "print(final_transfer_function)"
   ]
  },
  {
   "cell_type": "markdown",
   "metadata": {},
   "source": [
    "> Funciones de transferencia definiendo los ceros, polos y ganancia"
   ]
  },
  {
   "cell_type": "code",
   "execution_count": null,
   "metadata": {},
   "outputs": [],
   "source": [
    "# Definimos los ceros, polos y ganancia\n",
    "zeros = [0, 0]\n",
    "poles = [-1, -2]\n",
    "gain = 10\n",
    "\n",
    "# Creamos la función de transferencia zpk con los parámetros anteriores\n",
    "sys = zpk(zeros, poles, gain)\n",
    "\n",
    "# Mostrar\n",
    "print(sys)"
   ]
  },
  {
   "cell_type": "markdown",
   "metadata": {},
   "source": [
    "> ¿Cómo graficar la respuesta al escalón de una función de transferencia?"
   ]
  },
  {
   "cell_type": "code",
   "execution_count": null,
   "metadata": {},
   "outputs": [],
   "source": [
    "# Definimos la función de transferencia\n",
    "sys = tf([1, 2], [1, 2, 3])\n",
    "\n",
    "# Simulamos la respuesta de escalón de una función de transferencia\n",
    "y, t = step(sys)\n",
    "\n",
    "# Graficar la respuesta de escalón (Posible función SyCUNAL)\n",
    "plt.plot(t, y, linewidth=2); plt.title('Respuesta de escalón del sistema');\n",
    "plt.xlabel('Tiempo (seg)'); plt.ylabel('Amplitud'); plt.legend(['Respuesta al escalón']);\n",
    "plt.grid(linestyle = \":\"); plt.show();\n",
    "\n",
    "# Información de la gráfica (Posible función SyCUNAL):\n",
    "info = stepinfo(sys)\n",
    "tabla_info = PrettyTable()                           # Definimos una tabla\n",
    "tabla_info.field_names = [\"Parámetros\", \"Valores\"]   # Nombres de las columnas\n",
    "\n",
    "for key, value in info.items():\n",
    "    tabla_info.add_row([key, value])\n",
    "print(tabla_info)"
   ]
  },
  {
   "cell_type": "markdown",
   "metadata": {},
   "source": [
    "<p style='text-align: justify'>\n",
    "    \n",
    "<p>"
   ]
  }
 ],
 "metadata": {
  "kernelspec": {
   "display_name": "Python 3",
   "language": "python",
   "name": "python3"
  },
  "language_info": {
   "codemirror_mode": {
    "name": "ipython",
    "version": 3
   },
   "file_extension": ".py",
   "mimetype": "text/x-python",
   "name": "python",
   "nbconvert_exporter": "python",
   "pygments_lexer": "ipython3",
   "version": "3.10.12"
  }
 },
 "nbformat": 4,
 "nbformat_minor": 2
}
